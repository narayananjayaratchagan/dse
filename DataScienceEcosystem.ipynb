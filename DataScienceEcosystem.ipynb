{
  "nbformat": 4,
  "nbformat_minor": 0,
  "metadata": {
    "colab": {
      "provenance": []
    },
    "kernelspec": {
      "name": "python3",
      "display_name": "Python 3"
    },
    "language_info": {
      "name": "python"
    }
  },
  "cells": [
    {
      "cell_type": "markdown",
      "source": [
        "# Data Science Tools and Ecosystem"
      ],
      "metadata": {
        "id": "cNXc5J5zp9os"
      }
    },
    {
      "cell_type": "markdown",
      "source": [
        "##Author\n",
        "Narayanan J"
      ],
      "metadata": {
        "id": "0At2ouQM1o9Y"
      }
    },
    {
      "cell_type": "markdown",
      "source": [],
      "metadata": {
        "id": "B6GVYj9Dp8AU"
      }
    },
    {
      "cell_type": "markdown",
      "source": [
        "In this notebook, Data Science Tools and Ecosystem are summarized."
      ],
      "metadata": {
        "id": "Pv_eyLQ4q8YS"
      }
    },
    {
      "cell_type": "markdown",
      "source": [
        "**Objectives:**\n",
        "\n",
        "* List of popular languages used by Data Scientists\n",
        "* List of common libraries used by Data Scientists\n",
        "* List of tools used by Data Scientists\n",
        "* Sample artihmetic expressions\n",
        "* Sampe code snippets\n"
      ],
      "metadata": {
        "id": "XB9fPlHX0oSm"
      }
    },
    {
      "cell_type": "markdown",
      "source": [
        "Some of the popular languages that Data Scientists use are:\n",
        "\n",
        "\n",
        "1.   Python\n",
        "2.   R\n",
        "1.   Julia\n",
        "\n",
        "\n",
        "\n",
        "\n"
      ],
      "metadata": {
        "id": "c-2_0lY6r-zm"
      }
    },
    {
      "cell_type": "markdown",
      "source": [
        "Some of the commonly used libraries used by Data Scientists include:\n",
        "\n",
        "*   NumPy\n",
        "*   Pandas\n",
        "*   PyTorch\n",
        "*   Seaborn\n",
        "*   Matplotlib\n",
        "\n",
        "\n",
        "\n",
        "\n",
        "\n",
        "\n",
        "\n",
        "\n",
        "\n",
        "\n",
        "\n",
        "\n",
        "\n",
        "\n",
        "\n",
        "\n"
      ],
      "metadata": {
        "id": "XcGb4CFLshRm"
      }
    },
    {
      "cell_type": "markdown",
      "source": [
        "| Data Science Tools |\n",
        "|--------------------|\n",
        "| Jupyter Notebook   |\n",
        "| RStudio            |\n",
        "| Apache Zeppelin    |\n"
      ],
      "metadata": {
        "id": "T_rzXcK6ujn7"
      }
    },
    {
      "cell_type": "markdown",
      "source": [
        "### Below are a few examples of evaluating arithmetic expressions in Python.\n",
        "\n",
        "* 5 + 3\n",
        "* 5 - 3\n",
        "* 5 / 2\n",
        "\n"
      ],
      "metadata": {
        "id": "NlZua9v2x8Xi"
      }
    },
    {
      "cell_type": "code",
      "source": [
        "200 /60 #This will convert 200 minutes to hours by diving by 60\n"
      ],
      "metadata": {
        "colab": {
          "base_uri": "https://localhost:8080/"
        },
        "id": "4UzcbrZjy4_w",
        "outputId": "66b5bf78-1cf3-44ce-a600-68168a3358b7"
      },
      "execution_count": 3,
      "outputs": [
        {
          "output_type": "execute_result",
          "data": {
            "text/plain": [
              "3.3333333333333335"
            ]
          },
          "metadata": {},
          "execution_count": 3
        }
      ]
    }
  ]
}